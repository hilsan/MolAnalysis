{
 "cells": [
  {
   "cell_type": "code",
   "execution_count": 1,
   "metadata": {},
   "outputs": [
    {
     "data": {
      "text/plain": [
       "<Figure size 2100x2850 with 0 Axes>"
      ]
     },
     "metadata": {},
     "output_type": "display_data"
    },
    {
     "data": {
      "text/plain": [
       "<Figure size 2100x2850 with 0 Axes>"
      ]
     },
     "metadata": {},
     "output_type": "display_data"
    }
   ],
   "source": [
    "\"\"\"Notebook for analysing and visualising simpol results\"\"\"\n",
    "import pandas as pd\n",
    "import sys, os\n",
    "import numpy as np\n",
    "import seaborn as sns\n",
    "import matplotlib.pyplot as plt\n",
    "from scripts import plot_fun_groups as pfg\n",
    "\n",
    "fg_datasets={'IS':\"simpol-outputs/IS_SIMPOLgroups_no-ring_nitrophenol.csv\",\n",
    "         'RS':\"simpol-outputs/RS_SIMPOLgroups_no-ring_nitrophenol.csv\"}\n",
    "\n",
    "threshold=0.0\n",
    "for key in fg_datasets:\n",
    "\tdf = pd.read_csv(fg_datasets[key])\n",
    "\tdf = pfg.process_data(df)\n",
    "\tdf_c = pfg.count_values(df, threshold)\n",
    "\tpfg.plot_fun_group_hist(df, key)\n",
    "\tpfg.plot_fun_group_count_bar(df_c, threshold,key)  "
   ]
  }
 ],
 "metadata": {
  "kernelspec": {
   "display_name": "conda-gecko5",
   "language": "python",
   "name": "conda-gecko5"
  },
  "language_info": {
   "codemirror_mode": {
    "name": "ipython",
    "version": 3
   },
   "file_extension": ".py",
   "mimetype": "text/x-python",
   "name": "python",
   "nbconvert_exporter": "python",
   "pygments_lexer": "ipython3",
   "version": "3.10.8"
  }
 },
 "nbformat": 4,
 "nbformat_minor": 4
}
