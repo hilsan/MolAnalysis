{
 "cells": [
  {
   "cell_type": "code",
   "execution_count": null,
   "metadata": {},
   "outputs": [],
   "source": [
    "#README: workflow\n",
    "#<<Do simpol analysis>> --write as bash script? \n",
    "#%run scripts/format_dataframe_for_simpol.py\n",
    "#%run scripts/\n",
    "\n",
    "import pandas as pd\n",
    "import sys, os\n",
    "import numpy as np\n",
    "import matplotlib.pyplot as plt\n",
    "from scripts import plot_fun_groups as pfg\n",
    "\n",
    "fg_datasets={'IS':\"datasets_set_compound/IS_SIMPOLgroups_no-ring_nitrophenol.csv\",\n",
    "         'RS':\"datasets_set_compound/RS_SIMPOLgroups_no-ring_nitrophenol.csv\"}\n",
    "\n",
    "threshold=0.0\n",
    "\n",
    "for key in fg_datasets:\n",
    "\tdf = pd.read_csv(fg_datasets[key])\n",
    "\tdf = pfg.process_data(df)\n",
    "\tdf_c = pfg.count_values(df,threshold)\n",
    "\tpfg.plot_fun_group_hist(df,key)\n",
    "\tpfg.plot_fun_group_count_bar(df_c, threshold,key)  "
   ]
  }
 ],
 "metadata": {
  "kernelspec": {
   "display_name": "conda-gecko5",
   "language": "python",
   "name": "conda-gecko5"
  },
  "language_info": {
   "codemirror_mode": {
    "name": "ipython",
    "version": 3
   },
   "file_extension": ".py",
   "mimetype": "text/x-python",
   "name": "python",
   "nbconvert_exporter": "python",
   "pygments_lexer": "ipython3",
   "version": "3.10.8"
  }
 },
 "nbformat": 4,
 "nbformat_minor": 4
}
