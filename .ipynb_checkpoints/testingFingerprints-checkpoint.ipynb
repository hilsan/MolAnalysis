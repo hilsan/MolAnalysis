{
 "cells": [
  {
   "cell_type": "code",
   "execution_count": 1,
   "metadata": {},
   "outputs": [],
   "source": [
    "import sys\n",
    "import os\n",
    "ROOT_DIR = os.path.dirname(os.path.abspath('Pesticides'))\n",
    "sys.path.append(ROOT_DIR)"
   ]
  },
  {
   "cell_type": "code",
   "execution_count": 2,
   "metadata": {},
   "outputs": [],
   "source": [
    "from Pesticides.fingerprints import fingerprints"
   ]
  },
  {
   "cell_type": "code",
   "execution_count": 3,
   "metadata": {},
   "outputs": [],
   "source": [
    "mySmiles = 'c1ccccc1CC1CC1'\n",
    "myMorgan = fingerprints(fpType='Morgan')\n",
    "myMACCS = fingerprints(fpType='MACCS')\n",
    "myTOPO = fingerprints(fpType='topological')\n",
    "myMACCSFP = myMACCS.getFingerPrint(smiles=mySmiles)\n",
    "myMorganFP = myMorgan.getFingerPrint(smiles=mySmiles)\n",
    "myTOPOFP = myTOPO.getFingerPrint(smiles=mySmiles)"
   ]
  },
  {
   "cell_type": "code",
   "execution_count": 4,
   "metadata": {},
   "outputs": [],
   "source": [
    "#Loading my test data frame with a column of SMILES strings\n",
    "#Replace this below with your own dataframe that has a column called SMILES with smiles strings\n",
    "import joblib as jl\n",
    "df=jl.load(\"gecko/DATAPOOL_FULL.dump\") \n",
    "df_test = df[:20]\n",
    "#Examples that calculate the fingerprints of all items in a pandas dataframe (called df_test) using a column named \"SMILES\" which contains SMILES strings. \n",
    "MACCSFP = df_test.SMILES.apply(myMACCS.getFingerPrint)\n",
    "topoFP = df_test.SMILES.apply(myTOPO.getFingerPrint)\n",
    "morganFP = df_test.SMILES.apply(myMorgan.getFingerPrint)"
   ]
  },
  {
   "cell_type": "code",
   "execution_count": 7,
   "metadata": {},
   "outputs": [
    {
     "data": {
      "text/plain": [
       "0     [0, 0, 0, 0, 0, 0, 0, 0, 0, 0, 0, 0, 0, 0, 0, ...\n",
       "1     [0, 0, 0, 0, 0, 0, 0, 0, 0, 0, 0, 0, 0, 0, 0, ...\n",
       "2     [0, 0, 0, 0, 0, 0, 0, 0, 0, 0, 0, 0, 0, 0, 0, ...\n",
       "3     [0, 0, 0, 0, 0, 0, 0, 0, 0, 0, 0, 0, 0, 0, 0, ...\n",
       "4     [0, 0, 0, 0, 0, 0, 0, 0, 0, 1, 0, 0, 0, 0, 0, ...\n",
       "5     [0, 0, 0, 0, 0, 0, 0, 1, 0, 0, 0, 0, 0, 0, 0, ...\n",
       "6     [0, 1, 0, 0, 0, 0, 0, 1, 0, 1, 0, 0, 0, 0, 0, ...\n",
       "7     [1, 1, 1, 0, 1, 0, 0, 1, 0, 0, 0, 0, 1, 0, 1, ...\n",
       "8     [0, 1, 1, 0, 1, 0, 0, 1, 0, 0, 0, 0, 1, 0, 1, ...\n",
       "9     [0, 0, 1, 0, 1, 1, 0, 1, 0, 1, 0, 0, 0, 1, 1, ...\n",
       "10    [1, 0, 1, 1, 1, 1, 0, 1, 0, 1, 0, 0, 1, 0, 1, ...\n",
       "11    [1, 0, 1, 0, 1, 0, 0, 1, 0, 1, 0, 0, 1, 0, 1, ...\n",
       "12    [1, 0, 1, 0, 1, 0, 0, 1, 0, 0, 0, 0, 1, 0, 1, ...\n",
       "13    [1, 0, 1, 0, 1, 0, 0, 1, 0, 1, 0, 0, 1, 1, 1, ...\n",
       "14    [0, 0, 1, 0, 1, 0, 0, 1, 0, 1, 0, 0, 0, 0, 0, ...\n",
       "15    [1, 0, 1, 0, 1, 0, 0, 1, 0, 1, 0, 0, 0, 1, 1, ...\n",
       "16    [1, 0, 1, 0, 1, 0, 0, 1, 0, 1, 0, 0, 1, 1, 1, ...\n",
       "17    [1, 1, 1, 0, 1, 1, 1, 1, 0, 1, 1, 1, 1, 1, 1, ...\n",
       "18    [1, 0, 1, 0, 1, 0, 1, 1, 1, 1, 0, 1, 1, 1, 1, ...\n",
       "19    [0, 0, 1, 0, 1, 0, 0, 1, 0, 0, 0, 0, 1, 0, 1, ...\n",
       "Name: SMILES, dtype: object"
      ]
     },
     "execution_count": 7,
     "metadata": {},
     "output_type": "execute_result"
    }
   ],
   "source": [
    "topoFP"
   ]
  },
  {
   "cell_type": "code",
   "execution_count": null,
   "metadata": {},
   "outputs": [],
   "source": []
  }
 ],
 "metadata": {
  "kernelspec": {
   "display_name": "conda-gecko2",
   "language": "python",
   "name": "conda-gecko2"
  },
  "language_info": {
   "codemirror_mode": {
    "name": "ipython",
    "version": 3
   },
   "file_extension": ".py",
   "mimetype": "text/x-python",
   "name": "python",
   "nbconvert_exporter": "python",
   "pygments_lexer": "ipython3",
   "version": "3.10.6"
  }
 },
 "nbformat": 4,
 "nbformat_minor": 4
}
